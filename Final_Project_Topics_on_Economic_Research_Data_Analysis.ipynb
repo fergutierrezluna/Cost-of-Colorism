{
 "cells": [
  {
   "cell_type": "markdown",
   "metadata": {
    "id": "Ymt42g8ykN8v"
   },
   "source": [
    "# Formula for Analysis Frame. Economic Gains from Equity"
   ]
  },
  {
   "cell_type": "markdown",
   "metadata": {
    "id": "xllB9qCq8s6p"
   },
   "source": [
    "We focus only on the labor contributions to aggregate output, considering both the quantity of labor input and the productivity of labor inputs. \n",
    "\n",
    "The labor component of aggregate output $Y_{L}$ can be written as:\n",
    "\n",
    "### $Y_{L}$ = (N x $\\frac{H}{N}$) x F(e, u, io)\n",
    "\n",
    "Where \n",
    "* N is the number of workers\n",
    "* H / N is hours worked per worker\n",
    "* (e) is educational attainment\n",
    "* (u) is the degree of skill utilization\n",
    "* (io) is selected industry/occupation groups. \n",
    "\n",
    "This simple expression frames our analysis."
   ]
  },
  {
   "cell_type": "markdown",
   "metadata": {
    "id": "14XNXnfeDIRu"
   },
   "source": [
    "# EMOVI 2017 "
   ]
  },
  {
   "cell_type": "markdown",
   "metadata": {
    "id": "1GrrrHmTBKzh"
   },
   "source": [
    "## Description EMOVI 2017 (Updated Dataset)"
   ]
  },
  {
   "cell_type": "markdown",
   "metadata": {
    "id": "A5dLJpwKBWpm"
   },
   "source": [
    "## [Variable Dictionary](https://docs.google.com/spreadsheets/d/1eq_jNQteZfJ_bSU_IepNV02tP_Vp6xf8/edit?usp=sharing&ouid=101522009607038736699&rtpof=true&sd=true)"
   ]
  },
  {
   "cell_type": "markdown",
   "metadata": {
    "id": "x_7zwazcBtnZ"
   },
   "source": [
    "1. df[\"p06\"] = Gender\n",
    "    * 1 = Male\n",
    "    * 2 = Female\n",
    "\n",
    "2. df[\"p151\"] = PERLA Skin Color \n",
    "\n",
    "3. df[\"p05\"] = Age\n",
    "\n",
    "4. df[\"p13\"] = Ultimo nivel que alcanzo en la escuela\n",
    "\n",
    "  * **Make 4 Groups Educational Attainment:**\n",
    "      * Ninguno \n",
    "          97. No fue a la escuela\n",
    "      * Primaria \n",
    "          1. Kinder\n",
    "          2. Primaria\n",
    "      * Bachillerato y Carrera Trunca\n",
    "          3. Secundaria técnica\n",
    "          4. Secundaria general\n",
    "          5. Preparatoria técnica\n",
    "          6. Preparatoria general\n",
    "          7. Técnica o comercial con secundaria\n",
    "          8. Técnica o comercial con preparatoria\n",
    "          9. Normal básica\n",
    "      * Universidad de 4 años y posgrado\n",
    "          10. Normal de licenciatura\n",
    "          11. Profesional\n",
    "          12. Posgrado\n",
    "\n",
    "* Additional information:\n",
    "  * df[\"p64\"] = Edad que dejo de asistir a la escuela\t4-64\n",
    "  * **df[\"p63d\"] = Escuelas privadas/publicas: universidad?** (Quality of schooling)\n",
    "\n",
    "5. df[\"p133\"] = Income\n",
    "  * df[\"p132\"] = Num miembros que aportan ingresos al hogar\n",
    "  * df[\"p133\"] = Ingreso total que recibe este hogar en un mes normal\n",
    "  * df[\"p82\"] - df[\"p85_9_1\"] = prestaciones\n",
    "\n",
    "* df[\"p68\"] = Work Situation. ¿La semana pasada trabajo por lo menos una hora?\n",
    "  \n",
    "* df[\"p86\"] = Weekly Hours Worked\n",
    "\n",
    "* Degree of skill utilization\n",
    "  * df[\"p114\"] = Cuanto sirvieron habilidades de escuela en primer trabajo\n",
    "  * df[\"p115\"] = Primer trabajo fue acorde con sus estudios\n",
    "  * df[\"p78\"] = Tiene personal a su cargo en su trabajo\n",
    "  * df[\"p79\"] = Num personas que estan a su cargo\n",
    "\n",
    "\n",
    "*  Selected industry/occupation groups\n",
    "    * df[\"p75\"] Tareas que desempeña en su trabajo\n",
    "    * df[\"p76\"] Nombre de su oficio, puesto o cargo\n",
    "    * df[\"p76\"] codificación ocupación del entrevistado, SINCO\n",
    "    * df[\"p76\"] codificación ocupación del entrevistado, CIUO\n",
    "    * df[\"p77\"] Posicion en el trabajo\n",
    "    * df[\"p80\"] A que se dedica la empresa donde usted trabaja\n",
    "    * df[\"p80\"] A que se dedica la empresa donde usted trabaja SCIAN"
   ]
  },
  {
   "cell_type": "markdown",
   "metadata": {
    "id": "DLZ8dKy_f3Uj"
   },
   "source": [
    "## Total Variables I need"
   ]
  },
  {
   "cell_type": "markdown",
   "metadata": {
    "id": "ZPvDkxG2dtm_"
   },
   "source": [
    "* df[\"p06\"] = gender\n",
    "* df[\"p151\"] = PERLA Skin Color\n",
    "* df[\"p05\"] = age\n",
    "* df[\"p13\"] = academic attainment\n",
    "* df[\"p64\"] = age you stopped going to school\n",
    "* df[\"p63d\"] = private or public university \n",
    "* df[\"p133\"] = Total monthly income per home\n",
    "* df[\"p132\"] = How many people contribute to home income\n",
    "* df[\"p82\"] - df[\"p85_9_1\"] = benefits\n",
    "* df[\"p68\"] = Employment ¿La semana pasada trabajo por lo menos una hora?\n",
    "* df[\"p86\"] = Weekly Hours Worked\n",
    "\n",
    "* -\n",
    "\n",
    "* df[\"p114\"] = Cuanto sirvieron habilidades de escuela en primer trabajo\n",
    "* df[\"p115\"] = Primer trabajo fue acorde con sus estudios\n",
    "* df[\"p78\"] = Tiene personal a su cargo en su trabajo\n",
    "* df[\"p79\"] = Num personas que estan a su cargo\n",
    "\n",
    "* -\n",
    "\n",
    "* df[\"p75\"] = Tareas que desempeña en su trabajo\n",
    "* df[\"p76\"] = Nombre de su oficio, puesto o cargo\n",
    "* df[\"p76\"] = Codificación ocupación del entrevistado, SINCO\n",
    "* df[\"p76\"] = Codificación ocupación del entrevistado, CIUO\n",
    "* df[\"p77\"] = Posicion en el trabajo\n",
    "* df[\"p80\"] = A que se dedica la empresa donde usted trabaja\n",
    "* df[\"p80\"] = A que se dedica la empresa donde usted trabaja SCIAN\n",
    "\n",
    "\n",
    "* Adicional para autoempleados:\n",
    "    * df[\"p127_81\"] - df[\"p128f\"] = Servicios Financieros (ver si al tener piel obscura tienen menor acceso a creditos, por ejemplo)\n",
    "\n",
    "\n",
    "* Adicional Discriminación (cualitativas):\n",
    "    * df[\"p150a\"] - df[\"p150f_11\"]\n",
    "    * Estas pueden ser muy interesantes para probar lo invisible que es la discriminación. Apesar de que podemos comprobar con números que la discriminación existe, no se percibe\n",
    "        * Problema:\n",
    "            * Esto puede ser un tema de correlation no causation o algo así\n",
    "            * Tienes que poder probar o argumentar que aunque la pobreza está altamente correlacionada con el color de piel, se debe de abordar. "
   ]
  },
  {
   "cell_type": "markdown",
   "metadata": {
    "id": "XylzwmvYZkU2"
   },
   "source": [
    "## Coding EMOVI 2017 (Final dataset used for the paper)\n"
   ]
  },
  {
   "cell_type": "code",
   "execution_count": 1,
   "metadata": {
    "colab": {
     "base_uri": "https://localhost:8080/"
    },
    "id": "wBODiadHxPoa",
    "outputId": "3e519261-0ac3-46a0-f8ff-657c8339abed"
   },
   "outputs": [
    {
     "name": "stdout",
     "output_type": "stream",
     "text": [
      "Collecting pyreadstat\n",
      "  Downloading pyreadstat-1.2.0-cp39-cp39-macosx_10_9_x86_64.whl (585 kB)\n",
      "\u001b[K     |████████████████████████████████| 585 kB 2.3 MB/s eta 0:00:01\n",
      "\u001b[?25hRequirement already satisfied: pandas>=1.2.0 in /opt/anaconda3/lib/python3.9/site-packages (from pyreadstat) (1.5.0)\n",
      "Requirement already satisfied: numpy>=1.20.3 in /opt/anaconda3/lib/python3.9/site-packages (from pandas>=1.2.0->pyreadstat) (1.20.3)\n",
      "Requirement already satisfied: python-dateutil>=2.8.1 in /opt/anaconda3/lib/python3.9/site-packages (from pandas>=1.2.0->pyreadstat) (2.8.2)\n",
      "Requirement already satisfied: pytz>=2020.1 in /opt/anaconda3/lib/python3.9/site-packages (from pandas>=1.2.0->pyreadstat) (2021.3)\n",
      "Requirement already satisfied: six>=1.5 in /opt/anaconda3/lib/python3.9/site-packages (from python-dateutil>=2.8.1->pandas>=1.2.0->pyreadstat) (1.16.0)\n",
      "Installing collected packages: pyreadstat\n",
      "Successfully installed pyreadstat-1.2.0\n"
     ]
    }
   ],
   "source": [
    "!pip install pyreadstat"
   ]
  },
  {
   "cell_type": "code",
   "execution_count": 2,
   "metadata": {
    "colab": {
     "base_uri": "https://localhost:8080/"
    },
    "id": "p0kHZFtzxWfP",
    "outputId": "d764250c-8861-42c8-ccd4-413d9d02259b"
   },
   "outputs": [],
   "source": [
    "import pyreadstat\n",
    "import numpy as np\n",
    "import pandas as pd\n",
    "import matplotlib.pyplot as plt\n",
    "import seaborn as sns\n",
    "import statsmodels.api as sm\n",
    "import statsmodels.formula.api as smf\n",
    "\n",
    "dtafile = \"/Users/fernandogutierrez/Desktop/Berkeley/Topics on Economic Research/GitHub Files/ESRU-EMOVI 2017 Entrevistado.dta\"\n",
    "df, meta = pyreadstat.read_dta(dtafile, encoding=\"latin1\")"
   ]
  },
  {
   "cell_type": "code",
   "execution_count": 3,
   "metadata": {
    "colab": {
     "base_uri": "https://localhost:8080/"
    },
    "id": "IBv_T1WWx3lu",
    "outputId": "d21b0b53-47e4-467a-9b2f-0aa9346fe966"
   },
   "outputs": [
    {
     "name": "stdout",
     "output_type": "stream",
     "text": [
      "'adultos.dta' has  17665 rows and 366 columns\n"
     ]
    }
   ],
   "source": [
    "print(\"'adultos.dta' has \",df.shape[0], \"rows\", \"and\", df.shape[1], \"columns\")"
   ]
  },
  {
   "cell_type": "code",
   "execution_count": 5,
   "metadata": {
    "colab": {
     "base_uri": "https://localhost:8080/"
    },
    "id": "VPiD7pNrxhgs",
    "outputId": "eaa09c5d-b327-485c-8386-74f3c45f16ad"
   },
   "outputs": [],
   "source": [
    "#from google.colab import drive\n",
    "#drive.mount(\"/content/drive\")\n",
    "\n",
    "#!ls \"/content/drive/MyDrive/Topics on Economic Research/ESRU-EMOVI 2017 Entrevistado.dta\""
   ]
  },
  {
   "cell_type": "code",
   "execution_count": 6,
   "metadata": {
    "colab": {
     "base_uri": "https://localhost:8080/",
     "height": 487
    },
    "id": "yu6YZW9-4bgP",
    "outputId": "894811c2-de61-4bb5-d86f-b16ebee2dd0e"
   },
   "outputs": [
    {
     "data": {
      "text/html": [
       "<div>\n",
       "<style scoped>\n",
       "    .dataframe tbody tr th:only-of-type {\n",
       "        vertical-align: middle;\n",
       "    }\n",
       "\n",
       "    .dataframe tbody tr th {\n",
       "        vertical-align: top;\n",
       "    }\n",
       "\n",
       "    .dataframe thead th {\n",
       "        text-align: right;\n",
       "    }\n",
       "</style>\n",
       "<table border=\"1\" class=\"dataframe\">\n",
       "  <thead>\n",
       "    <tr style=\"text-align: right;\">\n",
       "      <th></th>\n",
       "      <th>folio</th>\n",
       "      <th>Estado</th>\n",
       "      <th>folio_ageb</th>\n",
       "      <th>consecutivo</th>\n",
       "      <th>Origen</th>\n",
       "      <th>Latitud</th>\n",
       "      <th>Longitud</th>\n",
       "      <th>LatitudGP</th>\n",
       "      <th>LongitudGP</th>\n",
       "      <th>recontacto</th>\n",
       "      <th>...</th>\n",
       "      <th>region</th>\n",
       "      <th>cdmx</th>\n",
       "      <th>tot_int</th>\n",
       "      <th>rururb</th>\n",
       "      <th>cmo1_2</th>\n",
       "      <th>cmo2_2</th>\n",
       "      <th>cmo3_2</th>\n",
       "      <th>cmo4_2</th>\n",
       "      <th>cmo5_2</th>\n",
       "      <th>tamhog</th>\n",
       "    </tr>\n",
       "  </thead>\n",
       "  <tbody>\n",
       "    <tr>\n",
       "      <th>0</th>\n",
       "      <td>0100100010286020830102</td>\n",
       "      <td>1.0</td>\n",
       "      <td>0100100010286</td>\n",
       "      <td>1</td>\n",
       "      <td>1.0</td>\n",
       "      <td>21.901323</td>\n",
       "      <td>-102.310598</td>\n",
       "      <td>21.901477</td>\n",
       "      <td>-102.310429</td>\n",
       "      <td>2</td>\n",
       "      <td>...</td>\n",
       "      <td>3.0</td>\n",
       "      <td>NaN</td>\n",
       "      <td>5.0</td>\n",
       "      <td>0.0</td>\n",
       "      <td>41</td>\n",
       "      <td>.</td>\n",
       "      <td>.</td>\n",
       "      <td>13</td>\n",
       "      <td>.</td>\n",
       "      <td>5.0</td>\n",
       "    </tr>\n",
       "    <tr>\n",
       "      <th>1</th>\n",
       "      <td>0100100010286020850201</td>\n",
       "      <td>1.0</td>\n",
       "      <td>0100100010286</td>\n",
       "      <td>1</td>\n",
       "      <td>2.0</td>\n",
       "      <td>21.901323</td>\n",
       "      <td>-102.310598</td>\n",
       "      <td>21.900773</td>\n",
       "      <td>-102.311138</td>\n",
       "      <td>1</td>\n",
       "      <td>...</td>\n",
       "      <td>3.0</td>\n",
       "      <td>NaN</td>\n",
       "      <td>1.0</td>\n",
       "      <td>0.0</td>\n",
       "      <td>41</td>\n",
       "      <td>.</td>\n",
       "      <td>.</td>\n",
       "      <td>41</td>\n",
       "      <td>.</td>\n",
       "      <td>1.0</td>\n",
       "    </tr>\n",
       "    <tr>\n",
       "      <th>2</th>\n",
       "      <td>0100100010286025830201</td>\n",
       "      <td>1.0</td>\n",
       "      <td>0100100010286</td>\n",
       "      <td>1</td>\n",
       "      <td>1.0</td>\n",
       "      <td>21.900830</td>\n",
       "      <td>-102.311818</td>\n",
       "      <td>21.900549</td>\n",
       "      <td>-102.313361</td>\n",
       "      <td>1</td>\n",
       "      <td>...</td>\n",
       "      <td>3.0</td>\n",
       "      <td>NaN</td>\n",
       "      <td>2.0</td>\n",
       "      <td>0.0</td>\n",
       "      <td>81</td>\n",
       "      <td>.</td>\n",
       "      <td>.</td>\n",
       "      <td>11</td>\n",
       "      <td>.</td>\n",
       "      <td>2.0</td>\n",
       "    </tr>\n",
       "    <tr>\n",
       "      <th>3</th>\n",
       "      <td>0100100010286025840101</td>\n",
       "      <td>1.0</td>\n",
       "      <td>0100100010286</td>\n",
       "      <td>1</td>\n",
       "      <td>1.0</td>\n",
       "      <td>21.901188</td>\n",
       "      <td>-102.310700</td>\n",
       "      <td>21.900765</td>\n",
       "      <td>-102.313144</td>\n",
       "      <td>1</td>\n",
       "      <td>...</td>\n",
       "      <td>3.0</td>\n",
       "      <td>NaN</td>\n",
       "      <td>1.0</td>\n",
       "      <td>0.0</td>\n",
       "      <td>52</td>\n",
       "      <td>.</td>\n",
       "      <td>.</td>\n",
       "      <td>.</td>\n",
       "      <td>.</td>\n",
       "      <td>1.0</td>\n",
       "    </tr>\n",
       "    <tr>\n",
       "      <th>4</th>\n",
       "      <td>0100100010286025850101</td>\n",
       "      <td>1.0</td>\n",
       "      <td>0100100010286</td>\n",
       "      <td>1</td>\n",
       "      <td>2.0</td>\n",
       "      <td>21.901188</td>\n",
       "      <td>-102.310700</td>\n",
       "      <td>21.900577</td>\n",
       "      <td>-102.312733</td>\n",
       "      <td>1</td>\n",
       "      <td>...</td>\n",
       "      <td>3.0</td>\n",
       "      <td>NaN</td>\n",
       "      <td>2.0</td>\n",
       "      <td>0.0</td>\n",
       "      <td>52</td>\n",
       "      <td>.</td>\n",
       "      <td>.</td>\n",
       "      <td>.</td>\n",
       "      <td>.</td>\n",
       "      <td>2.0</td>\n",
       "    </tr>\n",
       "    <tr>\n",
       "      <th>...</th>\n",
       "      <td>...</td>\n",
       "      <td>...</td>\n",
       "      <td>...</td>\n",
       "      <td>...</td>\n",
       "      <td>...</td>\n",
       "      <td>...</td>\n",
       "      <td>...</td>\n",
       "      <td>...</td>\n",
       "      <td>...</td>\n",
       "      <td>...</td>\n",
       "      <td>...</td>\n",
       "      <td>...</td>\n",
       "      <td>...</td>\n",
       "      <td>...</td>\n",
       "      <td>...</td>\n",
       "      <td>...</td>\n",
       "      <td>...</td>\n",
       "      <td>...</td>\n",
       "      <td>...</td>\n",
       "      <td>...</td>\n",
       "      <td>...</td>\n",
       "    </tr>\n",
       "    <tr>\n",
       "      <th>17660</th>\n",
       "      <td>3205700010022019460402</td>\n",
       "      <td>32.0</td>\n",
       "      <td>3205700010022</td>\n",
       "      <td>2</td>\n",
       "      <td>1.0</td>\n",
       "      <td>22.755409</td>\n",
       "      <td>-102.513985</td>\n",
       "      <td>22.755409</td>\n",
       "      <td>-102.513985</td>\n",
       "      <td>1</td>\n",
       "      <td>...</td>\n",
       "      <td>2.0</td>\n",
       "      <td>NaN</td>\n",
       "      <td>4.0</td>\n",
       "      <td>0.0</td>\n",
       "      <td>71</td>\n",
       "      <td>.</td>\n",
       "      <td>.</td>\n",
       "      <td>.</td>\n",
       "      <td>71</td>\n",
       "      <td>4.0</td>\n",
       "    </tr>\n",
       "    <tr>\n",
       "      <th>17661</th>\n",
       "      <td>3205700010022025450501</td>\n",
       "      <td>32.0</td>\n",
       "      <td>3205700010022</td>\n",
       "      <td>2</td>\n",
       "      <td>1.0</td>\n",
       "      <td>22.288405</td>\n",
       "      <td>-101.577532</td>\n",
       "      <td>22.288405</td>\n",
       "      <td>-101.577532</td>\n",
       "      <td>1</td>\n",
       "      <td>...</td>\n",
       "      <td>2.0</td>\n",
       "      <td>NaN</td>\n",
       "      <td>4.0</td>\n",
       "      <td>0.0</td>\n",
       "      <td>.</td>\n",
       "      <td>.</td>\n",
       "      <td>.</td>\n",
       "      <td>82</td>\n",
       "      <td>71</td>\n",
       "      <td>4.0</td>\n",
       "    </tr>\n",
       "    <tr>\n",
       "      <th>17662</th>\n",
       "      <td>3205700010022025460301</td>\n",
       "      <td>32.0</td>\n",
       "      <td>3205700010022</td>\n",
       "      <td>2</td>\n",
       "      <td>1.0</td>\n",
       "      <td>22.758625</td>\n",
       "      <td>-102.499375</td>\n",
       "      <td>22.758625</td>\n",
       "      <td>-102.499375</td>\n",
       "      <td>1</td>\n",
       "      <td>...</td>\n",
       "      <td>2.0</td>\n",
       "      <td>NaN</td>\n",
       "      <td>6.0</td>\n",
       "      <td>0.0</td>\n",
       "      <td>.</td>\n",
       "      <td>.</td>\n",
       "      <td>.</td>\n",
       "      <td>53</td>\n",
       "      <td>52</td>\n",
       "      <td>6.0</td>\n",
       "    </tr>\n",
       "    <tr>\n",
       "      <th>17663</th>\n",
       "      <td>3205700010022025460302</td>\n",
       "      <td>32.0</td>\n",
       "      <td>3205700010022</td>\n",
       "      <td>2</td>\n",
       "      <td>1.0</td>\n",
       "      <td>22.755420</td>\n",
       "      <td>-102.513997</td>\n",
       "      <td>22.755420</td>\n",
       "      <td>-102.513997</td>\n",
       "      <td>1</td>\n",
       "      <td>...</td>\n",
       "      <td>2.0</td>\n",
       "      <td>NaN</td>\n",
       "      <td>5.0</td>\n",
       "      <td>0.0</td>\n",
       "      <td>.</td>\n",
       "      <td>52</td>\n",
       "      <td>.</td>\n",
       "      <td>53</td>\n",
       "      <td>62</td>\n",
       "      <td>5.0</td>\n",
       "    </tr>\n",
       "    <tr>\n",
       "      <th>17664</th>\n",
       "      <td>3205700010022025460501</td>\n",
       "      <td>32.0</td>\n",
       "      <td>3205700010022</td>\n",
       "      <td>7</td>\n",
       "      <td>1.0</td>\n",
       "      <td>22.758625</td>\n",
       "      <td>-102.499375</td>\n",
       "      <td>22.758625</td>\n",
       "      <td>-102.499375</td>\n",
       "      <td>1</td>\n",
       "      <td>...</td>\n",
       "      <td>2.0</td>\n",
       "      <td>NaN</td>\n",
       "      <td>10.0</td>\n",
       "      <td>0.0</td>\n",
       "      <td>.</td>\n",
       "      <td>.</td>\n",
       "      <td>.</td>\n",
       "      <td>.</td>\n",
       "      <td>41</td>\n",
       "      <td>10.0</td>\n",
       "    </tr>\n",
       "  </tbody>\n",
       "</table>\n",
       "<p>17665 rows × 366 columns</p>\n",
       "</div>"
      ],
      "text/plain": [
       "                        folio  Estado     folio_ageb consecutivo  Origen  \\\n",
       "0      0100100010286020830102     1.0  0100100010286           1     1.0   \n",
       "1      0100100010286020850201     1.0  0100100010286           1     2.0   \n",
       "2      0100100010286025830201     1.0  0100100010286           1     1.0   \n",
       "3      0100100010286025840101     1.0  0100100010286           1     1.0   \n",
       "4      0100100010286025850101     1.0  0100100010286           1     2.0   \n",
       "...                       ...     ...            ...         ...     ...   \n",
       "17660  3205700010022019460402    32.0  3205700010022           2     1.0   \n",
       "17661  3205700010022025450501    32.0  3205700010022           2     1.0   \n",
       "17662  3205700010022025460301    32.0  3205700010022           2     1.0   \n",
       "17663  3205700010022025460302    32.0  3205700010022           2     1.0   \n",
       "17664  3205700010022025460501    32.0  3205700010022           7     1.0   \n",
       "\n",
       "         Latitud    Longitud  LatitudGP  LongitudGP recontacto  ...  region  \\\n",
       "0      21.901323 -102.310598  21.901477 -102.310429          2  ...     3.0   \n",
       "1      21.901323 -102.310598  21.900773 -102.311138          1  ...     3.0   \n",
       "2      21.900830 -102.311818  21.900549 -102.313361          1  ...     3.0   \n",
       "3      21.901188 -102.310700  21.900765 -102.313144          1  ...     3.0   \n",
       "4      21.901188 -102.310700  21.900577 -102.312733          1  ...     3.0   \n",
       "...          ...         ...        ...         ...        ...  ...     ...   \n",
       "17660  22.755409 -102.513985  22.755409 -102.513985          1  ...     2.0   \n",
       "17661  22.288405 -101.577532  22.288405 -101.577532          1  ...     2.0   \n",
       "17662  22.758625 -102.499375  22.758625 -102.499375          1  ...     2.0   \n",
       "17663  22.755420 -102.513997  22.755420 -102.513997          1  ...     2.0   \n",
       "17664  22.758625 -102.499375  22.758625 -102.499375          1  ...     2.0   \n",
       "\n",
       "       cdmx  tot_int rururb cmo1_2  cmo2_2 cmo3_2  cmo4_2  cmo5_2  tamhog  \n",
       "0       NaN      5.0    0.0     41       .      .      13       .     5.0  \n",
       "1       NaN      1.0    0.0     41       .      .      41       .     1.0  \n",
       "2       NaN      2.0    0.0     81       .      .      11       .     2.0  \n",
       "3       NaN      1.0    0.0     52       .      .       .       .     1.0  \n",
       "4       NaN      2.0    0.0     52       .      .       .       .     2.0  \n",
       "...     ...      ...    ...    ...     ...    ...     ...     ...     ...  \n",
       "17660   NaN      4.0    0.0     71       .      .       .      71     4.0  \n",
       "17661   NaN      4.0    0.0      .       .      .      82      71     4.0  \n",
       "17662   NaN      6.0    0.0      .       .      .      53      52     6.0  \n",
       "17663   NaN      5.0    0.0      .      52      .      53      62     5.0  \n",
       "17664   NaN     10.0    0.0      .       .      .       .      41    10.0  \n",
       "\n",
       "[17665 rows x 366 columns]"
      ]
     },
     "execution_count": 6,
     "metadata": {},
     "output_type": "execute_result"
    }
   ],
   "source": [
    "df"
   ]
  },
  {
   "cell_type": "markdown",
   "metadata": {
    "id": "fflW6Vv4gWo-"
   },
   "source": [
    "### Clean Data"
   ]
  },
  {
   "cell_type": "code",
   "execution_count": 7,
   "metadata": {
    "colab": {
     "base_uri": "https://localhost:8080/"
    },
    "id": "RLgFw3PXgZIb",
    "outputId": "6358b828-7761-415f-ace5-8ebe102f8067"
   },
   "outputs": [
    {
     "name": "stdout",
     "output_type": "stream",
     "text": [
      "The original database has 366  columns\n",
      "Lets clean this!\n",
      "Finished!\n",
      "Now the database has only 135  columns!\n"
     ]
    }
   ],
   "source": [
    "if df.shape[1] > 22: #the original database has 366 columns\n",
    "  print(\"The original database has\", df.shape[1],\" columns\")\n",
    "  print(\"Lets clean this!\")\n",
    "  #df.drop(df.loc[:, 'p01':'p03'].columns, axis = 1, inplace=True)\n",
    "  #df.drop(df.loc[:, 'p09_1':'p12'].columns, axis = 1, inplace=True)\n",
    "  #df.drop(df.loc[:, 'p13_1'].columns, axis = 1, inplace=True)\n",
    "  df.drop(df.loc[:, 'p15':'p23_2'].columns, axis = 1, inplace=True)\n",
    "  df.drop(df.loc[:, 'p25':'p62i'].columns, axis = 1, inplace=True)\n",
    "  df.drop(df.loc[:, 'p65':'p67'].columns, axis = 1, inplace=True)\n",
    "  df.drop(df.loc[:, 'p69':'p74'].columns, axis = 1, inplace=True)\n",
    "  df.drop(df.loc[:, 'p87':'p113'].columns, axis = 1, inplace=True)\n",
    "  df.drop(df.loc[:, 'p116':'p117'].columns, axis = 1, inplace=True)\n",
    "  df.drop(df.loc[:, 'p119':'p127_81'].columns, axis = 1, inplace=True)\n",
    "  df.drop(df.loc[:, 'p129a':'p131'].columns, axis = 1, inplace=True)\n",
    "  df.drop(df.loc[:, 'p134a':'p149'].columns, axis = 1, inplace=True)\n",
    "  print(\"Finished!\")\n",
    "  print(\"Now the database has only\", df.shape[1], \" columns!\")\n",
    "else:\n",
    "  print(\"No need to clean it. The database is clean already\")"
   ]
  },
  {
   "cell_type": "markdown",
   "metadata": {
    "id": "3Q1RuS_U5djB"
   },
   "source": [
    "Limiations:\n",
    "* Income is family income. We are using the average\n",
    "* Income is toped at 10 minimum salaries, which is around USD $1,000. This is a huge problem as census data does not have access to the Mexican upper class which is predominantly white. As a reference, according to Glassdoor, a Financial Analyst with no experience in Credit Suisse earns on average 37,567 - MX47,970, which is between 15 and 20 minimum salaries. If you look up the CEO salary in Mexico in Glassdoor, the average is 374,941 pesos, which is 156 minimum salaries. "
   ]
  },
  {
   "cell_type": "code",
   "execution_count": 8,
   "metadata": {
    "id": "sAC9fyAG1COS"
   },
   "outputs": [],
   "source": [
    "df = df.rename(columns={\"p06\": \"gender\",\"p151\":\"PERLA\",\"p05\":\"age\",\"p13\":\"academic_level\",\"p64\":\"age_schl_drop\",\"p133\":\"income\",\"p132\":\"contributors\",\"p68\":\"employed\",\"p86\":\"H/N\",\"p114\":\"school use in 1 job\"})"
   ]
  },
  {
   "cell_type": "markdown",
   "metadata": {
    "id": "XELjQLgYCHSw"
   },
   "source": [
    "### **IMPORTANT TO-DO**"
   ]
  },
  {
   "cell_type": "markdown",
   "metadata": {
    "id": "P_YI_6IBCxCG"
   },
   "source": [
    "Transform Income Variables (range of minimum salaries) into the average of the range (ej. in \"p133\", if answer = 4, the dictionary means between 2 and 3 minimum salaries. Thus, transform 4 into average of 2 and 3 minumum salaries: MXN $8,401"
   ]
  },
  {
   "cell_type": "code",
   "execution_count": 9,
   "metadata": {
    "colab": {
     "base_uri": "https://localhost:8080/",
     "height": 423
    },
    "id": "TeF-vfnPC0jF",
    "outputId": "da5d1d5e-e2dc-43c0-8218-8bf066d01db0"
   },
   "outputs": [
    {
     "data": {
      "text/html": [
       "<div>\n",
       "<style scoped>\n",
       "    .dataframe tbody tr th:only-of-type {\n",
       "        vertical-align: middle;\n",
       "    }\n",
       "\n",
       "    .dataframe tbody tr th {\n",
       "        vertical-align: top;\n",
       "    }\n",
       "\n",
       "    .dataframe thead th {\n",
       "        text-align: right;\n",
       "    }\n",
       "</style>\n",
       "<table border=\"1\" class=\"dataframe\">\n",
       "  <thead>\n",
       "    <tr style=\"text-align: right;\">\n",
       "      <th></th>\n",
       "      <th>income</th>\n",
       "      <th>salaries_MXN</th>\n",
       "    </tr>\n",
       "  </thead>\n",
       "  <tbody>\n",
       "    <tr>\n",
       "      <th>0</th>\n",
       "      <td>4</td>\n",
       "      <td>6000.5</td>\n",
       "    </tr>\n",
       "    <tr>\n",
       "      <th>1</th>\n",
       "      <td>4</td>\n",
       "      <td>6000.5</td>\n",
       "    </tr>\n",
       "    <tr>\n",
       "      <th>2</th>\n",
       "      <td>4</td>\n",
       "      <td>6000.5</td>\n",
       "    </tr>\n",
       "    <tr>\n",
       "      <th>3</th>\n",
       "      <td>2</td>\n",
       "      <td>2400.0</td>\n",
       "    </tr>\n",
       "    <tr>\n",
       "      <th>4</th>\n",
       "      <td>3</td>\n",
       "      <td>3600.5</td>\n",
       "    </tr>\n",
       "    <tr>\n",
       "      <th>...</th>\n",
       "      <td>...</td>\n",
       "      <td>...</td>\n",
       "    </tr>\n",
       "    <tr>\n",
       "      <th>17660</th>\n",
       "      <td>3</td>\n",
       "      <td>3600.5</td>\n",
       "    </tr>\n",
       "    <tr>\n",
       "      <th>17661</th>\n",
       "      <td>1</td>\n",
       "      <td>1199.5</td>\n",
       "    </tr>\n",
       "    <tr>\n",
       "      <th>17662</th>\n",
       "      <td>2</td>\n",
       "      <td>2400.0</td>\n",
       "    </tr>\n",
       "    <tr>\n",
       "      <th>17663</th>\n",
       "      <td>1</td>\n",
       "      <td>1199.5</td>\n",
       "    </tr>\n",
       "    <tr>\n",
       "      <th>17664</th>\n",
       "      <td>3</td>\n",
       "      <td>3600.5</td>\n",
       "    </tr>\n",
       "  </tbody>\n",
       "</table>\n",
       "<p>17665 rows × 2 columns</p>\n",
       "</div>"
      ],
      "text/plain": [
       "       income  salaries_MXN\n",
       "0           4        6000.5\n",
       "1           4        6000.5\n",
       "2           4        6000.5\n",
       "3           2        2400.0\n",
       "4           3        3600.5\n",
       "...       ...           ...\n",
       "17660       3        3600.5\n",
       "17661       1        1199.5\n",
       "17662       2        2400.0\n",
       "17663       1        1199.5\n",
       "17664       3        3600.5\n",
       "\n",
       "[17665 rows x 2 columns]"
      ]
     },
     "execution_count": 9,
     "metadata": {},
     "output_type": "execute_result"
    }
   ],
   "source": [
    "salaries_MXN = []\n",
    "for i in df[\"income\"]:\n",
    "  if i==1:\n",
    "    i = ((0+2399)/2)\n",
    "  elif i == 2:\n",
    "    i = 2400\n",
    "  elif i == 3:\n",
    "    i = ((2401 + 4800)/2)\n",
    "  elif i == 4:\n",
    "    i = ((7200 + 4801)/2)\n",
    "  elif i == 5:\n",
    "    i = ((7201 + 12000)/2)\n",
    "  elif i == 6:\n",
    "    i = ((12001 + 24000)/2)\n",
    "  elif i == 7:\n",
    "    i = 24001\n",
    "  \n",
    "  salaries_MXN.append(i)\n",
    "\n",
    "#Add to dataframe\n",
    "df[\"salaries_MXN\"] = salaries_MXN\n",
    "\n",
    "df[[\"income\",\"salaries_MXN\"]]"
   ]
  },
  {
   "cell_type": "markdown",
   "metadata": {
    "id": "4kdaN8WW0ZbQ"
   },
   "source": [
    "### Replicate Table 1"
   ]
  },
  {
   "cell_type": "code",
   "execution_count": 10,
   "metadata": {
    "colab": {
     "base_uri": "https://localhost:8080/"
    },
    "id": "MF_zQr__wJL6",
    "outputId": "e98a62f5-14b6-444b-a3e7-a0e413bee1a7"
   },
   "outputs": [
    {
     "data": {
      "text/plain": [
       "0        8\n",
       "1        8\n",
       "2        8\n",
       "3        9\n",
       "4        8\n",
       "        ..\n",
       "17660    3\n",
       "17661    5\n",
       "17662    7\n",
       "17663    5\n",
       "17664    8\n",
       "Name: PERLA, Length: 17665, dtype: int64"
      ]
     },
     "execution_count": 10,
     "metadata": {},
     "output_type": "execute_result"
    }
   ],
   "source": [
    "df[\"PERLA\"]"
   ]
  },
  {
   "cell_type": "code",
   "execution_count": 11,
   "metadata": {
    "colab": {
     "base_uri": "https://localhost:8080/"
    },
    "id": "FNQKumCntXNR",
    "outputId": "0168a639-6960-4bed-bb36-72093a8fed19"
   },
   "outputs": [
    {
     "name": "stdout",
     "output_type": "stream",
     "text": [
      "Group 11 population percentage:  0.10189640532125673 %\n",
      "Group 10 population percentage:  0.3226719501839796 %\n",
      "Group 9 population percentage:  0.6849702802151146 %\n",
      "Group 8 population percentage:  1.9020662326634588 %\n",
      "Group 7 population percentage:  4.455137277101613 %\n",
      "Group 6 population percentage:  16.824228700820832 %\n",
      "Group 5 population percentage:  29.204641947353522 %\n",
      "Group 4 population percentage:  35.38635720350977 %\n",
      "Group 3 population percentage:  6.742145485423152 %\n",
      "Group 2 population percentage:  3.7588451740730258 %\n",
      "Group 1 population percentage:  0.6170393433342769 %\n"
     ]
    }
   ],
   "source": [
    "PERLA_Percentage = df['PERLA'].value_counts(normalize=True,sort=False).sort_index(ascending = False)\n",
    "print(\"Group 11 population percentage: \",PERLA_Percentage[1]*100,\"%\")\n",
    "print(\"Group 10 population percentage: \",PERLA_Percentage[2]*100,\"%\")\n",
    "print(\"Group 9 population percentage: \",PERLA_Percentage[3]*100,\"%\")\n",
    "print(\"Group 8 population percentage: \",PERLA_Percentage[4]*100,\"%\")\n",
    "print(\"Group 7 population percentage: \",PERLA_Percentage[5]*100,\"%\")\n",
    "print(\"Group 6 population percentage: \",PERLA_Percentage[6]*100,\"%\")\n",
    "print(\"Group 5 population percentage: \",PERLA_Percentage[7]*100,\"%\")\n",
    "print(\"Group 4 population percentage: \",PERLA_Percentage[8]*100,\"%\")\n",
    "print(\"Group 3 population percentage: \",PERLA_Percentage[9]*100,\"%\")\n",
    "print(\"Group 2 population percentage: \",PERLA_Percentage[10]*100,\"%\")\n",
    "print(\"Group 1 population percentage: \",PERLA_Percentage[11]*100,\"%\")\n",
    "#PERLA_Percentage"
   ]
  },
  {
   "cell_type": "code",
   "execution_count": 12,
   "metadata": {
    "id": "2Q7EBYRM0ep8"
   },
   "outputs": [],
   "source": [
    "#Make 3 groups by skin\n",
    "      #White (PERLA 1-3)\n",
    "      #Light and Medium Brown (PERLA 4-5)\n",
    "      #Brown and Dark Brown (PERLA 6-11) (Campos Fig 4)\n",
    "\n",
    "SkinGroups = []\n",
    "for i in df[\"PERLA\"]:\n",
    "  if (9<=i) & (i<=11):\n",
    "    i = 1\n",
    "  elif (7<=i) & (i<=8):\n",
    "    i = 2\n",
    "  elif (1<=i) & (i<=6):\n",
    "    i = 3\n",
    "  \n",
    "  SkinGroups.append(i)\n",
    "\n",
    "#Add to dataframe\n",
    "df[\"Skin_Groups\"] = SkinGroups"
   ]
  },
  {
   "cell_type": "code",
   "execution_count": 13,
   "metadata": {
    "id": "oUDFyfum3y93"
   },
   "outputs": [],
   "source": [
    "df1 = df[[\"gender\",\"PERLA\",\"Skin_Groups\",\"age\",\"academic_level\",\"age_schl_drop\",\"salaries_MXN\",\"contributors\",\"employed\",\"H/N\"]]"
   ]
  },
  {
   "cell_type": "code",
   "execution_count": 14,
   "metadata": {
    "id": "_1SGgBO_6UGY"
   },
   "outputs": [],
   "source": [
    "#choose only those who are employed for the GDP analysis\n",
    "\n",
    "df1 = df[df[\"employed\"]==1]"
   ]
  },
  {
   "cell_type": "code",
   "execution_count": 15,
   "metadata": {
    "colab": {
     "base_uri": "https://localhost:8080/",
     "height": 175
    },
    "id": "c4mwDfNLhz1h",
    "outputId": "2883a63b-af52-4cd3-9314-73c088b91195"
   },
   "outputs": [
    {
     "data": {
      "text/html": [
       "<div>\n",
       "<style scoped>\n",
       "    .dataframe tbody tr th:only-of-type {\n",
       "        vertical-align: middle;\n",
       "    }\n",
       "\n",
       "    .dataframe tbody tr th {\n",
       "        vertical-align: top;\n",
       "    }\n",
       "\n",
       "    .dataframe thead th {\n",
       "        text-align: right;\n",
       "    }\n",
       "</style>\n",
       "<table border=\"1\" class=\"dataframe\">\n",
       "  <thead>\n",
       "    <tr style=\"text-align: right;\">\n",
       "      <th></th>\n",
       "      <th>PERLA</th>\n",
       "      <th>salaries_MXN</th>\n",
       "      <th>contributors</th>\n",
       "      <th>gender</th>\n",
       "    </tr>\n",
       "    <tr>\n",
       "      <th>Skin_Groups</th>\n",
       "      <th></th>\n",
       "      <th></th>\n",
       "      <th></th>\n",
       "      <th></th>\n",
       "    </tr>\n",
       "  </thead>\n",
       "  <tbody>\n",
       "    <tr>\n",
       "      <th>1</th>\n",
       "      <td>9.475531</td>\n",
       "      <td>6769.349030</td>\n",
       "      <td>1.735919</td>\n",
       "      <td>1.551247</td>\n",
       "    </tr>\n",
       "    <tr>\n",
       "      <th>2</th>\n",
       "      <td>7.544838</td>\n",
       "      <td>4894.108552</td>\n",
       "      <td>1.704468</td>\n",
       "      <td>1.496610</td>\n",
       "    </tr>\n",
       "    <tr>\n",
       "      <th>3</th>\n",
       "      <td>5.486203</td>\n",
       "      <td>4398.208900</td>\n",
       "      <td>1.656432</td>\n",
       "      <td>1.371551</td>\n",
       "    </tr>\n",
       "  </tbody>\n",
       "</table>\n",
       "</div>"
      ],
      "text/plain": [
       "                PERLA  salaries_MXN  contributors    gender\n",
       "Skin_Groups                                                \n",
       "1            9.475531   6769.349030      1.735919  1.551247\n",
       "2            7.544838   4894.108552      1.704468  1.496610\n",
       "3            5.486203   4398.208900      1.656432  1.371551"
      ]
     },
     "execution_count": 15,
     "metadata": {},
     "output_type": "execute_result"
    }
   ],
   "source": [
    "gdp_df = df1[[\"PERLA\",\"Skin_Groups\",\"salaries_MXN\",\"contributors\",\"gender\"]]\n",
    "gdp_df = gdp_df.groupby([\"Skin_Groups\"]).mean()\n",
    "income_sort = gdp_df[\"salaries_MXN\"].sort_values(ascending=False)\n",
    "gender_sort = gdp_df[\"gender\"].sort_values(ascending=False)\n",
    "\n",
    "gdp_df\n",
    "\n",
    "#The whitest group has the highest number of contributors and it has the largest amount of women."
   ]
  },
  {
   "cell_type": "code",
   "execution_count": 16,
   "metadata": {
    "colab": {
     "base_uri": "https://localhost:8080/"
    },
    "id": "sfFyKitI8_kI",
    "outputId": "85d6082c-5832-48a0-fa58-b38ad913112e"
   },
   "outputs": [
    {
     "name": "stdout",
     "output_type": "stream",
     "text": [
      "Group 1 population percentage:  10.674157303370785 %\n",
      "Group 2 population percentage:  63.96609501281293 %\n",
      "Group 3 population percentage:  25.35974768381628 %\n"
     ]
    }
   ],
   "source": [
    "Skin_Groups_Percentage = df1['Skin_Groups'].value_counts(normalize=True,ascending=True)\n",
    "print(\"Group 1 population percentage: \",Skin_Groups_Percentage[1]*100,\"%\")\n",
    "print(\"Group 2 population percentage: \",Skin_Groups_Percentage[2]*100,\"%\")\n",
    "print(\"Group 3 population percentage: \",Skin_Groups_Percentage[3]*100,\"%\")"
   ]
  },
  {
   "cell_type": "code",
   "execution_count": 17,
   "metadata": {
    "colab": {
     "base_uri": "https://localhost:8080/",
     "height": 389
    },
    "id": "1h_AcUYP9xiE",
    "outputId": "cc9d7cb9-b49b-468a-f0ec-fcd2acc32f58"
   },
   "outputs": [
    {
     "data": {
      "text/plain": [
       "array([[<AxesSubplot:title={'center':'Skin_Groups'}>,\n",
       "        <AxesSubplot:title={'center':'PERLA'}>]], dtype=object)"
      ]
     },
     "execution_count": 17,
     "metadata": {},
     "output_type": "execute_result"
    },
    {
     "data": {
      "image/png": "[encoded data removed]",
      "text/plain": [
       "<Figure size 720x360 with 2 Axes>"
      ]
     },
     "metadata": {
      "needs_background": "light"
     },
     "output_type": "display_data"
    }
   ],
   "source": [
    "df1.hist(['Skin_Groups','PERLA'], figsize=(10, 5),sharex=False)"
   ]
  },
  {
   "cell_type": "code",
   "execution_count": 18,
   "metadata": {
    "colab": {
     "base_uri": "https://localhost:8080/",
     "height": 206
    },
    "id": "DyJcxKmQBSxC",
    "outputId": "6ccc7ab4-0877-4dd2-b582-7435f429cb04"
   },
   "outputs": [
    {
     "data": {
      "text/html": [
       "<div>\n",
       "<style scoped>\n",
       "    .dataframe tbody tr th:only-of-type {\n",
       "        vertical-align: middle;\n",
       "    }\n",
       "\n",
       "    .dataframe tbody tr th {\n",
       "        vertical-align: top;\n",
       "    }\n",
       "\n",
       "    .dataframe thead th {\n",
       "        text-align: right;\n",
       "    }\n",
       "</style>\n",
       "<table border=\"1\" class=\"dataframe\">\n",
       "  <thead>\n",
       "    <tr style=\"text-align: right;\">\n",
       "      <th></th>\n",
       "      <th>salaries_MXN</th>\n",
       "      <th>Population%</th>\n",
       "      <th>Population</th>\n",
       "      <th>Group_GDP</th>\n",
       "    </tr>\n",
       "    <tr>\n",
       "      <th>Skin_Groups</th>\n",
       "      <th></th>\n",
       "      <th></th>\n",
       "      <th></th>\n",
       "      <th></th>\n",
       "    </tr>\n",
       "  </thead>\n",
       "  <tbody>\n",
       "    <tr>\n",
       "      <th>1</th>\n",
       "      <td>6769.349030</td>\n",
       "      <td>0.106742</td>\n",
       "      <td>6.434402e+06</td>\n",
       "      <td>5.226806e+11</td>\n",
       "    </tr>\n",
       "    <tr>\n",
       "      <th>2</th>\n",
       "      <td>4894.108552</td>\n",
       "      <td>0.639661</td>\n",
       "      <td>3.855888e+07</td>\n",
       "      <td>2.264536e+12</td>\n",
       "    </tr>\n",
       "    <tr>\n",
       "      <th>3</th>\n",
       "      <td>4398.208900</td>\n",
       "      <td>0.253597</td>\n",
       "      <td>1.528690e+07</td>\n",
       "      <td>8.068199e+11</td>\n",
       "    </tr>\n",
       "    <tr>\n",
       "      <th>Total_1</th>\n",
       "      <td>NaN</td>\n",
       "      <td>NaN</td>\n",
       "      <td>NaN</td>\n",
       "      <td>3.594037e+12</td>\n",
       "    </tr>\n",
       "  </tbody>\n",
       "</table>\n",
       "</div>"
      ],
      "text/plain": [
       "             salaries_MXN  Population%    Population     Group_GDP\n",
       "Skin_Groups                                                       \n",
       "1             6769.349030     0.106742  6.434402e+06  5.226806e+11\n",
       "2             4894.108552     0.639661  3.855888e+07  2.264536e+12\n",
       "3             4398.208900     0.253597  1.528690e+07  8.068199e+11\n",
       "Total_1               NaN          NaN           NaN  3.594037e+12"
      ]
     },
     "execution_count": 18,
     "metadata": {},
     "output_type": "execute_result"
    }
   ],
   "source": [
    "import copy\n",
    "\n",
    "Table_1 = pd.DataFrame()\n",
    "Table_1 = df1[df1.employed == 1]\n",
    "Table_1 = Table_1[[\"Skin_Groups\",\"salaries_MXN\"]]\n",
    "Table_1 = Table_1.groupby([\"Skin_Groups\"]).mean()\n",
    "Table_1[\"Population%\"] = Skin_Groups_Percentage\n",
    "\n",
    "population_2017 = 60280187\n",
    "\n",
    "Table_1[\"Population\"] = Table_1[\"Population%\"].mul(population_2017) \n",
    "Table_1[\"Population\"] = pd.to_numeric(Table_1[\"Population\"])\n",
    "\n",
    "\n",
    "Table_1[\"Group_GDP\"]= (Table_1[\"Population\"]*Table_1[\"salaries_MXN\"])*12\n",
    "\n",
    "Total_1 = Table_1[\"Group_GDP\"].sum()\n",
    "Table_1.loc['Total_1'] = pd.Series(Table_1[\"Group_GDP\"].sum(), index = [\"Group_GDP\"])\n",
    "\n",
    "Table_1 "
   ]
  },
  {
   "cell_type": "code",
   "execution_count": 19,
   "metadata": {
    "colab": {
     "base_uri": "https://localhost:8080/",
     "height": 206
    },
    "id": "lVATyiehcIPR",
    "outputId": "949d49a1-e934-4c6b-8edd-7e597427c217"
   },
   "outputs": [
    {
     "data": {
      "text/html": [
       "<div>\n",
       "<style scoped>\n",
       "    .dataframe tbody tr th:only-of-type {\n",
       "        vertical-align: middle;\n",
       "    }\n",
       "\n",
       "    .dataframe tbody tr th {\n",
       "        vertical-align: top;\n",
       "    }\n",
       "\n",
       "    .dataframe thead th {\n",
       "        text-align: right;\n",
       "    }\n",
       "</style>\n",
       "<table border=\"1\" class=\"dataframe\">\n",
       "  <thead>\n",
       "    <tr style=\"text-align: right;\">\n",
       "      <th></th>\n",
       "      <th>salaries_MXN</th>\n",
       "      <th>Population%</th>\n",
       "      <th>Population</th>\n",
       "      <th>Group_GDP</th>\n",
       "    </tr>\n",
       "    <tr>\n",
       "      <th>Skin_Groups</th>\n",
       "      <th></th>\n",
       "      <th></th>\n",
       "      <th></th>\n",
       "      <th></th>\n",
       "    </tr>\n",
       "  </thead>\n",
       "  <tbody>\n",
       "    <tr>\n",
       "      <th>1</th>\n",
       "      <td>6769.34903</td>\n",
       "      <td>0.106742</td>\n",
       "      <td>6.434402e+06</td>\n",
       "      <td>5.226806e+11</td>\n",
       "    </tr>\n",
       "    <tr>\n",
       "      <th>2</th>\n",
       "      <td>6769.34903</td>\n",
       "      <td>0.639661</td>\n",
       "      <td>3.855888e+07</td>\n",
       "      <td>3.132222e+12</td>\n",
       "    </tr>\n",
       "    <tr>\n",
       "      <th>3</th>\n",
       "      <td>6769.34903</td>\n",
       "      <td>0.253597</td>\n",
       "      <td>1.528690e+07</td>\n",
       "      <td>1.241789e+12</td>\n",
       "    </tr>\n",
       "    <tr>\n",
       "      <th>Total_2</th>\n",
       "      <td>NaN</td>\n",
       "      <td>NaN</td>\n",
       "      <td>NaN</td>\n",
       "      <td>4.896692e+12</td>\n",
       "    </tr>\n",
       "  </tbody>\n",
       "</table>\n",
       "</div>"
      ],
      "text/plain": [
       "             salaries_MXN  Population%    Population     Group_GDP\n",
       "Skin_Groups                                                       \n",
       "1              6769.34903     0.106742  6.434402e+06  5.226806e+11\n",
       "2              6769.34903     0.639661  3.855888e+07  3.132222e+12\n",
       "3              6769.34903     0.253597  1.528690e+07  1.241789e+12\n",
       "Total_2               NaN          NaN           NaN  4.896692e+12"
      ]
     },
     "execution_count": 19,
     "metadata": {},
     "output_type": "execute_result"
    }
   ],
   "source": [
    "Table_1_counterfactual = Table_1\n",
    "Table_1_counterfactual[\"salaries_MXN\"][1:3] = Table_1_counterfactual[\"salaries_MXN\"][1]\n",
    "Table_1_counterfactual[\"Group_GDP\"]= (Table_1_counterfactual[\"Population\"]*Table_1[\"salaries_MXN\"])*12\n",
    "\n",
    "Total_2 = Table_1_counterfactual[\"Group_GDP\"].sum()\n",
    "Table_1_counterfactual.loc['Total_2'] = pd.Series(Table_1_counterfactual[\"Group_GDP\"].sum(), index = [\"Group_GDP\"])\n",
    "Table_1_counterfactual = Table_1_counterfactual.drop(['Total_1'])\n",
    "\n",
    "Table_1_counterfactual"
   ]
  },
  {
   "cell_type": "code",
   "execution_count": 20,
   "metadata": {
    "colab": {
     "base_uri": "https://localhost:8080/"
    },
    "id": "M4exfgft_4TJ",
    "outputId": "f7e62772-f300-46ac-8ca5-37ffaf50aef2"
   },
   "outputs": [
    {
     "name": "stdout",
     "output_type": "stream",
     "text": [
      "Lost in GDP (MXN):  1302654788536.6113\n",
      "Lost in GDP (USD 2017 conversion rate):  74584454412.21902\n"
     ]
    }
   ],
   "source": [
    "GDP_loss = Total_2 - Total_1\n",
    "print(\"Lost in GDP (MXN): \",GDP_loss) \n",
    "print(\"Lost in GDP (USD 2017 conversion rate): \",GDP_loss/17.4655) "
   ]
  },
  {
   "cell_type": "markdown",
   "metadata": {
    "id": "h69rgfjHzeA7"
   },
   "source": [
    "# V2 Proposal "
   ]
  },
  {
   "cell_type": "markdown",
   "metadata": {
    "id": "XNYUZnMqzg9c"
   },
   "source": [
    "## Table 1"
   ]
  },
  {
   "cell_type": "markdown",
   "metadata": {
    "id": "w63PAyJSzoCj"
   },
   "source": [
    "### Means of Key Variables"
   ]
  },
  {
   "cell_type": "markdown",
   "metadata": {
    "id": "7DQpCxbJ0P-S"
   },
   "source": [
    "1. Generate a DataFrame with Key Variables \n",
    "\n",
    "2. Use Groupby to generate Key Variables means"
   ]
  },
  {
   "cell_type": "markdown",
   "metadata": {
    "id": "KPcW-RypDxp7"
   },
   "source": [
    "* df[\"p06\"] = gender\n",
    "* df[\"p151\"] = PERLA Skin Color\n",
    "* df[\"p05\"] = age\n",
    "* df[\"p13\"] = academic attainment\n",
    "* df[\"p64\"] = age you stopped going to school\n",
    "* df[\"p63d\"] = private or public university \n",
    "* df[\"p133\"] = Total monthly income per home\n",
    "* df[\"p132\"] = How many people contribute to home income\n",
    "* df[\"p82\"] - df[\"p85_9_1\"] = benefits\n",
    "* df[\"p68\"] = Employment ¿La semana pasada trabajo por lo menos una hora?\n",
    "* df[\"p86\"] = Weekly Hours Worked\n",
    "\n",
    "* -\n",
    "\n",
    "* df[\"p114\"] = Cuanto sirvieron habilidades de escuela en primer trabajo (1 = Mucho, 4 = no le sirvieron)\n",
    "* df[\"p78\"] = Tiene personal a su cargo en su trabajo\n",
    "* df[\"p79\"] = Num personas que estan a su cargo\n",
    "\n",
    "\n",
    "* Adicional para autoempleados:\n",
    "    * df[\"p127_81\"] - df[\"p128f\"] = Servicios Financieros (ver si al ser morenos tienen menor acceso a creditos, por ejemplo)"
   ]
  },
  {
   "cell_type": "code",
   "execution_count": 21,
   "metadata": {
    "colab": {
     "base_uri": "https://localhost:8080/",
     "height": 175
    },
    "id": "X0rsx3S0zi7m",
    "outputId": "76385b28-70dd-419a-b8cc-0e9fdac15ae5"
   },
   "outputs": [
    {
     "name": "stderr",
     "output_type": "stream",
     "text": [
      "/var/folders/cr/mwjn7_vx4290gyhrvfv_04nm0000gn/T/ipykernel_1939/2975249770.py:18: FutureWarning: The default value of numeric_only in DataFrameGroupBy.mean is deprecated. In a future version, numeric_only will default to False. Either specify numeric_only or select only columns which should be valid for the function.\n",
      "  Table_1_V1.groupby(\"Skin_Groups\").mean()\n"
     ]
    },
    {
     "data": {
      "text/html": [
       "<div>\n",
       "<style scoped>\n",
       "    .dataframe tbody tr th:only-of-type {\n",
       "        vertical-align: middle;\n",
       "    }\n",
       "\n",
       "    .dataframe tbody tr th {\n",
       "        vertical-align: top;\n",
       "    }\n",
       "\n",
       "    .dataframe thead th {\n",
       "        text-align: right;\n",
       "    }\n",
       "</style>\n",
       "<table border=\"1\" class=\"dataframe\">\n",
       "  <thead>\n",
       "    <tr style=\"text-align: right;\">\n",
       "      <th></th>\n",
       "      <th>gender</th>\n",
       "      <th>PERLA</th>\n",
       "      <th>age</th>\n",
       "      <th>academic_level</th>\n",
       "      <th>age_schl_drop</th>\n",
       "      <th>income</th>\n",
       "      <th>salaries_MXN</th>\n",
       "      <th>contributors</th>\n",
       "      <th>employed</th>\n",
       "      <th>H/N</th>\n",
       "    </tr>\n",
       "    <tr>\n",
       "      <th>Skin_Groups</th>\n",
       "      <th></th>\n",
       "      <th></th>\n",
       "      <th></th>\n",
       "      <th></th>\n",
       "      <th></th>\n",
       "      <th></th>\n",
       "      <th></th>\n",
       "      <th></th>\n",
       "      <th></th>\n",
       "      <th></th>\n",
       "    </tr>\n",
       "  </thead>\n",
       "  <tbody>\n",
       "    <tr>\n",
       "      <th>1</th>\n",
       "      <td>1.559339</td>\n",
       "      <td>9.472763</td>\n",
       "      <td>42.139105</td>\n",
       "      <td>6.358949</td>\n",
       "      <td>18.502918</td>\n",
       "      <td>4.522374</td>\n",
       "      <td>6677.334630</td>\n",
       "      <td>1.731518</td>\n",
       "      <td>1.0</td>\n",
       "      <td>42.819066</td>\n",
       "    </tr>\n",
       "    <tr>\n",
       "      <th>2</th>\n",
       "      <td>1.497136</td>\n",
       "      <td>7.543748</td>\n",
       "      <td>42.228921</td>\n",
       "      <td>5.301941</td>\n",
       "      <td>17.388005</td>\n",
       "      <td>3.944321</td>\n",
       "      <td>4877.653834</td>\n",
       "      <td>1.702832</td>\n",
       "      <td>1.0</td>\n",
       "      <td>42.802895</td>\n",
       "    </tr>\n",
       "    <tr>\n",
       "      <th>3</th>\n",
       "      <td>1.375252</td>\n",
       "      <td>5.486497</td>\n",
       "      <td>43.075373</td>\n",
       "      <td>4.538896</td>\n",
       "      <td>16.354293</td>\n",
       "      <td>3.705764</td>\n",
       "      <td>4391.025998</td>\n",
       "      <td>1.655784</td>\n",
       "      <td>1.0</td>\n",
       "      <td>43.798468</td>\n",
       "    </tr>\n",
       "  </tbody>\n",
       "</table>\n",
       "</div>"
      ],
      "text/plain": [
       "               gender     PERLA        age  academic_level  age_schl_drop  \\\n",
       "Skin_Groups                                                                 \n",
       "1            1.559339  9.472763  42.139105        6.358949      18.502918   \n",
       "2            1.497136  7.543748  42.228921        5.301941      17.388005   \n",
       "3            1.375252  5.486497  43.075373        4.538896      16.354293   \n",
       "\n",
       "               income  salaries_MXN  contributors  employed        H/N  \n",
       "Skin_Groups                                                             \n",
       "1            4.522374   6677.334630      1.731518       1.0  42.819066  \n",
       "2            3.944321   4877.653834      1.702832       1.0  42.802895  \n",
       "3            3.705764   4391.025998      1.655784       1.0  43.798468  "
      ]
     },
     "execution_count": 21,
     "metadata": {},
     "output_type": "execute_result"
    }
   ],
   "source": [
    "Table_1_V1 = df[[\"gender\",\"PERLA\",\"Skin_Groups\",\"age\",\"academic_level\",\"age_schl_drop\",\"income\",\"salaries_MXN\",\"contributors\",\"employed\",\"H/N\",\"school use in 1 job\"]]\n",
    "\n",
    "#cleaning for finding means\n",
    "Table_1_V1 = Table_1_V1[Table_1_V1[\"employed\"]==1]\n",
    "Table_1_V1 = Table_1_V1.dropna()\n",
    "\n",
    "#convert all objects to ints so we can find the means\n",
    "Table_1_V1[\"academic_level\"] = pd.to_numeric(Table_1_V1[\"academic_level\"], errors='coerce').convert_dtypes()\n",
    "Table_1_V1[\"age_schl_drop\"] = pd.to_numeric(Table_1_V1[\"age_schl_drop\"], errors='coerce').convert_dtypes() \n",
    "Table_1_V1[\"H/N\"] = pd.to_numeric(Table_1_V1[\"H/N\"], errors='coerce').convert_dtypes() \n",
    "#Table_1_V1[\"p114\"] = pd.to_numeric(Table_1_V1[\"p114\"], errors='coerce').convert_dtypes() \n",
    "#Table_1_V1[\"school use in 1 job\"] = pd.to_numeric(Table_1_V1[\"school use in 1 job\"], errors='coerce').convert_dtypes() \n",
    "\n",
    "\n",
    "#Replace \"academic_level\" 97 value (which means they did not go to school) with 0\n",
    "Table_1_V1[\"academic_level\"] = Table_1_V1[\"academic_level\"].replace([97],0)\n",
    "\n",
    "Table_1_V1.groupby(\"Skin_Groups\").mean()\n",
    "#Table_1_V1[\"academic_level\"]\n"
   ]
  },
  {
   "cell_type": "markdown",
   "metadata": {
    "id": "0S5iSJIhzjWC"
   },
   "source": [
    "## Table 2"
   ]
  },
  {
   "cell_type": "markdown",
   "metadata": {
    "id": "5Vak-Jg-zqjx"
   },
   "source": [
    "Initial Model Estimates"
   ]
  },
  {
   "cell_type": "code",
   "execution_count": null,
   "metadata": {
    "id": "6mWX_e82zkq2"
   },
   "outputs": [],
   "source": []
  },
  {
   "cell_type": "markdown",
   "metadata": {
    "id": "BWr4Uu3uqsok"
   },
   "source": [
    "# Regression "
   ]
  },
  {
   "cell_type": "code",
   "execution_count": 22,
   "metadata": {
    "id": "dNon9BPYzmaa"
   },
   "outputs": [],
   "source": [
    "import numpy as np\n",
    "from statsmodels.formula.api import ols"
   ]
  },
  {
   "cell_type": "code",
   "execution_count": 23,
   "metadata": {
    "id": "KF7Ol-dw34th"
   },
   "outputs": [],
   "source": [
    "Figure_1 = df[[\"gender\",\"PERLA\",\"Skin_Groups\",\"age\",\"academic_level\",\"age_schl_drop\",\"income\",\"salaries_MXN\",\"contributors\",\"employed\",\"H/N\"]]\n",
    "Figure_1 = Figure_1[Figure_1[\"employed\"]==1]\n",
    "Figure_1 = Figure_1.rename(columns={\"H/N\": \"work_hrs\"})\n",
    "Figure_1 = Figure_1.dropna()"
   ]
  },
  {
   "cell_type": "code",
   "execution_count": 24,
   "metadata": {
    "colab": {
     "base_uri": "https://localhost:8080/"
    },
    "id": "RZmbjBnmQQ8l",
    "outputId": "27855a33-d8dd-46d2-b041-6174570c2c17"
   },
   "outputs": [
    {
     "data": {
      "text/plain": [
       "4     2372\n",
       "2     2145\n",
       "6     1773\n",
       "11    1303\n",
       "3      546\n",
       "5      508\n",
       "10     328\n",
       "8      258\n",
       "97     246\n",
       "12     127\n",
       "7      125\n",
       "9       49\n",
       "1       15\n",
       "Name: academic_level, dtype: int64"
      ]
     },
     "execution_count": 24,
     "metadata": {},
     "output_type": "execute_result"
    }
   ],
   "source": [
    "Figure_1[\"academic_level\"].value_counts()"
   ]
  },
  {
   "cell_type": "markdown",
   "metadata": {
    "id": "Ui1s4zFvQN4f"
   },
   "source": [
    "Academic Levels"
   ]
  },
  {
   "cell_type": "code",
   "execution_count": 25,
   "metadata": {
    "colab": {
     "base_uri": "https://localhost:8080/"
    },
    "id": "w5MMOGKNOVlQ",
    "outputId": "5143de2f-4f78-4c5c-e6c4-12bb6e05100b"
   },
   "outputs": [
    {
     "data": {
      "text/plain": [
       "1    5078\n",
       "2    2713\n",
       "3    1758\n",
       "0     246\n",
       "Name: academic_groups, dtype: int64"
      ]
     },
     "execution_count": 25,
     "metadata": {},
     "output_type": "execute_result"
    }
   ],
   "source": [
    "#Group Academic Levels\n",
    "\n",
    "#0 = (97) did not go to school\n",
    "#1 = (1:4) middle school or less\n",
    "#2 = (5:9)high school ,technical and incomplete college degrees\n",
    "#3 = (10:12) College + ,technical and incomplete college degrees\n",
    "\n",
    "\n",
    "academic_groups = []\n",
    "for i in Figure_1[\"academic_level\"]:\n",
    "  if (1<=i) & (i<=4):\n",
    "    i = 1\n",
    "  elif (5<=i) & (i<=9):\n",
    "    i = 2\n",
    "  elif (10<=i) & (i<=12):\n",
    "    i = 3\n",
    "  elif i == 97:\n",
    "    i = 0\n",
    "  \n",
    "  academic_groups.append(i)\n",
    "\n",
    "#Add to dataframe\n",
    "Figure_1[\"academic_groups\"] = academic_groups\n",
    "#df[\"academic_groups\"].value_counts()\n",
    "Figure_1[\"academic_groups\"].value_counts()\n",
    "#Figure_1[\"academic_level\",\"academic_groups\"]"
   ]
  },
  {
   "cell_type": "code",
   "execution_count": 26,
   "metadata": {
    "id": "ok-L0Zg68H-Z"
   },
   "outputs": [],
   "source": [
    "Figure_1[\"work_hrs\"] = pd.to_numeric(Figure_1[\"work_hrs\"], errors='coerce').convert_dtypes()\n",
    "Figure_1[\"work_hrs\"] = Figure_1[\"work_hrs\"].astype(int)\n",
    "#Figure_1[\"work_hrs\"].unique()"
   ]
  },
  {
   "cell_type": "code",
   "execution_count": 27,
   "metadata": {
    "colab": {
     "base_uri": "https://localhost:8080/"
    },
    "id": "JDzX5s3-3lU6",
    "outputId": "2c05ce78-82e1-4b58-9009-b579a59e701b"
   },
   "outputs": [
    {
     "name": "stdout",
     "output_type": "stream",
     "text": [
      "                            OLS Regression Results                            \n",
      "==============================================================================\n",
      "Dep. Variable:                 income   R-squared:                       0.130\n",
      "Model:                            OLS   Adj. R-squared:                  0.129\n",
      "Method:                 Least Squares   F-statistic:                     371.1\n",
      "Date:                Sat, 05 Nov 2022   Prob (F-statistic):          4.72e-298\n",
      "Time:                        16:30:16   Log-Likelihood:                -20613.\n",
      "No. Observations:                9795   AIC:                         4.124e+04\n",
      "Df Residuals:                    9790   BIC:                         4.127e+04\n",
      "Df Model:                           4                                         \n",
      "Covariance Type:                  HC3                                         \n",
      "===================================================================================\n",
      "                      coef    std err          z      P>|z|      [0.025      0.975]\n",
      "-----------------------------------------------------------------------------------\n",
      "Intercept           2.8260      0.119     23.675      0.000       2.592       3.060\n",
      "Skin_Groups        -0.1837      0.035     -5.272      0.000      -0.252      -0.115\n",
      "gender             -0.2308      0.041     -5.636      0.000      -0.311      -0.151\n",
      "academic_groups     0.8480      0.025     33.339      0.000       0.798       0.898\n",
      "contributors        0.2875      0.026     10.944      0.000       0.236       0.339\n",
      "==============================================================================\n",
      "Omnibus:                     1013.756   Durbin-Watson:                   1.460\n",
      "Prob(Omnibus):                  0.000   Jarque-Bera (JB):             1358.879\n",
      "Skew:                           0.866   Prob(JB):                    8.38e-296\n",
      "Kurtosis:                       3.577   Cond. No.                         23.6\n",
      "==============================================================================\n",
      "\n",
      "Notes:\n",
      "[1] Standard Errors are heteroscedasticity robust (HC3)\n"
     ]
    }
   ],
   "source": [
    "reg1 = ols(\"income ~ Skin_Groups\", data = Figure_1).fit(cov_type = 'HC3')\n",
    "reg1 = ols(\"income ~ Skin_Groups + gender\", data = Figure_1).fit(cov_type = 'HC3')\n",
    "reg2 = ols(\"income ~ Skin_Groups + gender + academic_groups\", data = Figure_1).fit(cov_type = 'HC3')\n",
    "reg3 = ols(\"income ~ Skin_Groups + gender + academic_groups + work_hrs\", data = Figure_1).fit(cov_type = 'HC3')\n",
    "reg4 = ols(\"income ~ Skin_Groups + gender + academic_groups + contributors\", data = Figure_1).fit(cov_type = 'HC3')\n",
    "print(reg4.summary())"
   ]
  },
  {
   "cell_type": "markdown",
   "metadata": {
    "id": "4_eqtq9P5lD3"
   },
   "source": [
    "View multiple models in one table"
   ]
  },
  {
   "cell_type": "code",
   "execution_count": 28,
   "metadata": {
    "colab": {
     "base_uri": "https://localhost:8080/"
    },
    "id": "msLoS17z62ZV",
    "outputId": "b27fd1ec-f867-4a26-edcf-dab5e7eee9e7"
   },
   "outputs": [
    {
     "name": "stdout",
     "output_type": "stream",
     "text": [
      "Collecting stargazer\n",
      "  Downloading stargazer-0.0.5-py3-none-any.whl (9.7 kB)\n",
      "Installing collected packages: stargazer\n",
      "Successfully installed stargazer-0.0.5\n"
     ]
    }
   ],
   "source": [
    "!pip install stargazer"
   ]
  },
  {
   "cell_type": "code",
   "execution_count": 29,
   "metadata": {
    "colab": {
     "base_uri": "https://localhost:8080/",
     "height": 491
    },
    "id": "4HUK2get5ke4",
    "outputId": "dac582c2-ca9e-4d6f-9826-4278949b4e3c"
   },
   "outputs": [
    {
     "data": {
      "text/html": [
       "<table style=\"text-align:center\"><tr><td colspan=\"5\" style=\"border-bottom: 1px solid black\"></td></tr><tr><td style=\"text-align:left\"></td><td colspan=\"4\"><em>Dependent variable:income</em></td></tr><tr><td style=\"text-align:left\"></td><tr><td style=\"text-align:left\"></td><td>(1)</td><td>(2)</td><td>(3)</td><td>(4)</td></tr><tr><td colspan=\"5\" style=\"border-bottom: 1px solid black\"></td></tr><tr><td style=\"text-align:left\">Intercept</td><td>5.186<sup>***</sup></td><td>3.202<sup>***</sup></td><td>2.752<sup>***</sup></td><td>2.826<sup>***</sup></td></tr><tr><td style=\"text-align:left\"></td><td>(0.106)</td><td>(0.117)</td><td>(0.130)</td><td>(0.119)</td></tr><tr><td style=\"text-align:left\">Skin_Groups</td><td>-0.388<sup>***</sup></td><td>-0.185<sup>***</sup></td><td>-0.184<sup>***</sup></td><td>-0.184<sup>***</sup></td></tr><tr><td style=\"text-align:left\"></td><td>(0.037)</td><td>(0.035)</td><td>(0.035)</td><td>(0.035)</td></tr><tr><td style=\"text-align:left\">academic_groups</td><td></td><td>0.866<sup>***</sup></td><td>0.869<sup>***</sup></td><td>0.848<sup>***</sup></td></tr><tr><td style=\"text-align:left\"></td><td></td><td>(0.025)</td><td>(0.025)</td><td>(0.025)</td></tr><tr><td style=\"text-align:left\">contributors</td><td></td><td></td><td></td><td>0.288<sup>***</sup></td></tr><tr><td style=\"text-align:left\"></td><td></td><td></td><td></td><td>(0.026)</td></tr><tr><td style=\"text-align:left\">gender</td><td>-0.277<sup>***</sup></td><td>-0.173<sup>***</sup></td><td>-0.116<sup>***</sup></td><td>-0.231<sup>***</sup></td></tr><tr><td style=\"text-align:left\"></td><td>(0.043)</td><td>(0.041)</td><td>(0.041)</td><td>(0.041)</td></tr><tr><td style=\"text-align:left\">work_hrs</td><td></td><td></td><td>0.008<sup>***</sup></td><td></td></tr><tr><td style=\"text-align:left\"></td><td></td><td></td><td>(0.001)</td><td></td></tr><td colspan=\"5\" style=\"border-bottom: 1px solid black\"></td></tr><tr><td style=\"text-align: left\">Observations</td><td>9,795</td><td>9,795</td><td>9,795</td><td>9,795</td></tr><tr><td style=\"text-align: left\">R<sup>2</sup></td><td>0.014</td><td>0.118</td><td>0.123</td><td>0.130</td></tr><tr><td style=\"text-align: left\">Adjusted R<sup>2</sup></td><td>0.014</td><td>0.117</td><td>0.123</td><td>0.129</td></tr><tr><td style=\"text-align: left\">Residual Std. Error</td><td>2.113 (df=9792)</td><td>1.999 (df=9791)</td><td>1.993 (df=9790)</td><td>1.985 (df=9790)</td></tr><tr><td style=\"text-align: left\">F Statistic</td><td>71.960<sup>***</sup> (df=2; 9792)</td><td>448.579<sup>***</sup> (df=3; 9791)</td><td>354.469<sup>***</sup> (df=4; 9790)</td><td>371.126<sup>***</sup> (df=4; 9790)</td></tr><tr><td colspan=\"5\" style=\"border-bottom: 1px solid black\"></td></tr><tr><td style=\"text-align: left\">Note:</td>\n",
       " <td colspan=\"4\" style=\"text-align: right\">\n",
       "  <sup>*</sup>p&lt;0.1;\n",
       "  <sup>**</sup>p&lt;0.05;\n",
       "  <sup>***</sup>p&lt;0.01\n",
       " </td></tr></table>"
      ],
      "text/plain": [
       "<IPython.core.display.HTML object>"
      ]
     },
     "execution_count": 29,
     "metadata": {},
     "output_type": "execute_result"
    }
   ],
   "source": [
    "from stargazer.stargazer import Stargazer\n",
    "from IPython.core.display import HTML\n",
    "stargazer = Stargazer([reg1, reg2, reg3, reg4])\n",
    "HTML(stargazer.render_html())"
   ]
  },
  {
   "cell_type": "code",
   "execution_count": 30,
   "metadata": {
    "colab": {
     "base_uri": "https://localhost:8080/",
     "height": 336
    },
    "id": "Vu7GWmsQWDiY",
    "outputId": "31e69ae3-a009-4218-cfcc-3cd8f545c914"
   },
   "outputs": [
    {
     "name": "stderr",
     "output_type": "stream",
     "text": [
      "/var/folders/cr/mwjn7_vx4290gyhrvfv_04nm0000gn/T/ipykernel_1939/2003542510.py:16: FutureWarning: The default value of numeric_only in DataFrame.corr is deprecated. In a future version, it will default to False. Select only valid columns or specify the value of numeric_only to silence this warning.\n",
      "  corrMatrix = correlation_df.corr()\n"
     ]
    },
    {
     "data": {
      "image/png": "[encoded data removed]",
      "text/plain": [
       "<Figure size 432x288 with 2 Axes>"
      ]
     },
     "metadata": {
      "needs_background": "light"
     },
     "output_type": "display_data"
    }
   ],
   "source": [
    "# Correlation Matrix\n",
    "\n",
    "import seaborn as sn\n",
    "import matplotlib.pyplot as plt\n",
    "\n",
    "df = df[df[\"employed\"]==1]\n",
    "#correlation_df = df[[\"gender\",\"PERLA\",\"age\",\"academic_level\",\"age_schl_drop\",\"income\",\"contributors\",\"H/N\",\"employed\"]]\n",
    "correlation_df = df[[\"gender\",\"PERLA\",\"age\",\"academic_level\",\"age_schl_drop\",\"income\",\"contributors\",\"H/N\"]]\n",
    "correlation_df = correlation_df.dropna()\n",
    "#correlation_df = correlation_df[correlation_df[\"employed\"]==1]\n",
    "correlation_df[\"academic_level\"] = pd.to_numeric(correlation_df[\"academic_level\"], errors='coerce').convert_dtypes()\n",
    "correlation_df[\"H/N\"] = pd.to_numeric(correlation_df[\"H/N\"], errors='coerce').convert_dtypes()\n",
    "correlation_df[\"H/N\"] = correlation_df[\"H/N\"].astype(int)\n",
    "correlation_df[\"academic_level\"] = correlation_df[\"academic_level\"].astype(int)\n",
    "\n",
    "corrMatrix = correlation_df.corr()\n",
    "sn.heatmap(corrMatrix, annot=True)\n",
    "plt.show()"
   ]
  },
  {
   "cell_type": "markdown",
   "metadata": {
    "id": "OnPPv59hESI5"
   },
   "source": [
    "## Trends"
   ]
  },
  {
   "cell_type": "markdown",
   "metadata": {
    "id": "1623jvUmETtr"
   },
   "source": [
    "* Employment to Population Ratio Male\n",
    "* Employment to Population Ratio Female\n",
    "* Trends in Hours Male\n",
    "* Trends in Hours Female\n",
    "* Trends in Educational Attainment Male\n",
    "* Trends in Educational Attainment Female\n",
    "* Trends in Real Average Hourly Earnings in 2019 dollars Male\n",
    "* Trends in Real Average Hourly Earnings in 2019 dollars Female"
   ]
  },
  {
   "cell_type": "code",
   "execution_count": 31,
   "metadata": {
    "colab": {
     "base_uri": "https://localhost:8080/",
     "height": 168
    },
    "id": "krL50GFS3I5e",
    "outputId": "5bdbfdd9-36fd-4e75-d027-6a136d2d34a3"
   },
   "outputs": [],
   "source": [
    "figure_1 = df[[\"Skin_Groups\",\"employed\",\"gender\"]]"
   ]
  },
  {
   "cell_type": "markdown",
   "metadata": {
    "id": "mBkOXUCrY1OD"
   },
   "source": [
    "### Employment to Population Ratio Male"
   ]
  },
  {
   "cell_type": "code",
   "execution_count": 32,
   "metadata": {
    "colab": {
     "base_uri": "https://localhost:8080/",
     "height": 240
    },
    "id": "qQ0sGEuu4NEY",
    "outputId": "1f12f9dc-fc8f-463c-97bf-ffc3dca69792"
   },
   "outputs": [
    {
     "name": "stdout",
     "output_type": "stream",
     "text": [
      "100.0 100.0 100.0\n"
     ]
    },
    {
     "name": "stderr",
     "output_type": "stream",
     "text": [
      "/var/folders/cr/mwjn7_vx4290gyhrvfv_04nm0000gn/T/ipykernel_1939/774935735.py:7: UserWarning: Boolean Series key will be reindexed to match DataFrame index.\n",
      "  pop_1_employed = [figure_1_male[(figure_1_male[\"Skin_Groups\"]==1) & (figure_1[\"employed\"]==1)].count()][0][0]\n",
      "/var/folders/cr/mwjn7_vx4290gyhrvfv_04nm0000gn/T/ipykernel_1939/774935735.py:8: UserWarning: Boolean Series key will be reindexed to match DataFrame index.\n",
      "  pop_2_employed = [figure_1_male[(figure_1_male[\"Skin_Groups\"]==2) & (figure_1[\"employed\"]==1)].count()][0][0]\n",
      "/var/folders/cr/mwjn7_vx4290gyhrvfv_04nm0000gn/T/ipykernel_1939/774935735.py:9: UserWarning: Boolean Series key will be reindexed to match DataFrame index.\n",
      "  pop_3_employed = [figure_1_male[(figure_1_male[\"Skin_Groups\"]==3) & (figure_1[\"employed\"]==1)].count()][0][0]\n"
     ]
    }
   ],
   "source": [
    "figure_1_male = figure_1[figure_1.gender == 1]\n",
    "\n",
    "population_1 = [figure_1_male[figure_1_male[\"Skin_Groups\"]==1].count()][0][0]\n",
    "population_2 = [figure_1_male[figure_1_male[\"Skin_Groups\"]==2].count()][0][0]\n",
    "population_3 = [figure_1_male[figure_1_male[\"Skin_Groups\"]==3].count()][0][0]\n",
    "\n",
    "pop_1_employed = [figure_1_male[(figure_1_male[\"Skin_Groups\"]==1) & (figure_1[\"employed\"]==1)].count()][0][0]\n",
    "pop_2_employed = [figure_1_male[(figure_1_male[\"Skin_Groups\"]==2) & (figure_1[\"employed\"]==1)].count()][0][0]\n",
    "pop_3_employed = [figure_1_male[(figure_1_male[\"Skin_Groups\"]==3) & (figure_1[\"employed\"]==1)].count()][0][0]\n",
    "\n",
    "pop_1_percent = (pop_1_employed/population_1)*100\n",
    "pop_2_percent = (pop_2_employed/population_2)*100\n",
    "pop_3_percent = (pop_3_employed/population_3)*100\n",
    "\n",
    "print(pop_1_percent, pop_2_percent, pop_3_percent)"
   ]
  },
  {
   "cell_type": "code",
   "execution_count": 33,
   "metadata": {
    "colab": {
     "base_uri": "https://localhost:8080/",
     "height": 295
    },
    "id": "nDFabi5SOlzw",
    "outputId": "44646c46-e4c2-4179-894a-ebd5ee8a0a76"
   },
   "outputs": [
    {
     "data": {
      "image/png": "[encoded data removed]",
      "text/plain": [
       "<Figure size 432x288 with 1 Axes>"
      ]
     },
     "metadata": {
      "needs_background": "light"
     },
     "output_type": "display_data"
    }
   ],
   "source": [
    "import os\n",
    "import numpy as np\n",
    "import matplotlib.pyplot as plt\n",
    "\n",
    "data = {'Group 1':pop_1_percent, 'Group 2':pop_2_percent, 'Group 3':pop_3_percent}\n",
    "x = list(data.keys())\n",
    "y = list(data.values())\n",
    "\n",
    "fig, ax = plt.subplots()\n",
    "width = 0.75\n",
    "ind = np.arange(len(y))\n",
    "\n",
    "ax.barh(ind, y, width, color = \"black\")\n",
    " \n",
    "for i, v in enumerate(y):\n",
    "    ax.text(v + 3, i + .25, str(v),\n",
    "            color = 'black')\n",
    "\n",
    "plt.yticks(ind, x)\n",
    "\n",
    "plt.xlabel(\"Percentage Employed\")\n",
    "plt.ylabel(\"Skin Groups\")\n",
    "plt.title(\"Male Employment to Population Ratio\")\n",
    "\n",
    "plt.show()"
   ]
  },
  {
   "cell_type": "markdown",
   "metadata": {
    "id": "EMTTK-MUY5IB"
   },
   "source": [
    "### Employment to Population Ratio Female"
   ]
  },
  {
   "cell_type": "code",
   "execution_count": 34,
   "metadata": {
    "colab": {
     "base_uri": "https://localhost:8080/"
    },
    "id": "075uXvR7_Q-z",
    "outputId": "51af2c1c-b988-4e03-e6e1-3acf58746cbc"
   },
   "outputs": [
    {
     "name": "stdout",
     "output_type": "stream",
     "text": [
      "100.0 100.0 100.0\n"
     ]
    }
   ],
   "source": [
    "figure_1_female = figure_1[figure_1.gender == 2]\n",
    "\n",
    "population_1_f = [figure_1_female[figure_1_female[\"Skin_Groups\"]==1].count()][0][0]\n",
    "population_2_f = [figure_1_female[figure_1_female[\"Skin_Groups\"]==2].count()][0][0]\n",
    "population_3_f = [figure_1_female[figure_1_female[\"Skin_Groups\"]==3].count()][0][0]\n",
    "\n",
    "pop_1_employed_f = [figure_1_female[(figure_1_female[\"Skin_Groups\"]==1) & (figure_1_female[\"employed\"]==1)].count()][0][0]\n",
    "pop_2_employed_f = [figure_1_female[(figure_1_female[\"Skin_Groups\"]==2) & (figure_1_female[\"employed\"]==1)].count()][0][0]\n",
    "pop_3_employed_f = [figure_1_female[(figure_1_female[\"Skin_Groups\"]==3) & (figure_1_female[\"employed\"]==1)].count()][0][0]\n",
    "\n",
    "pop_1_percent_f = (pop_1_employed_f/population_1_f)*100\n",
    "pop_2_percent_f = (pop_2_employed_f/population_2_f)*100\n",
    "pop_3_percent_f = (pop_3_employed_f/population_3_f)*100\n",
    "\n",
    "print(pop_1_percent_f, pop_2_percent_f, pop_3_percent_f)"
   ]
  },
  {
   "cell_type": "code",
   "execution_count": 35,
   "metadata": {
    "colab": {
     "base_uri": "https://localhost:8080/",
     "height": 295
    },
    "id": "H_6h-lep_efV",
    "outputId": "60bd1980-b5a1-498a-b41f-b7d680c031fa"
   },
   "outputs": [
    {
     "data": {
      "image/png": "[encoded data removed]",
      "text/plain": [
       "<Figure size 432x288 with 1 Axes>"
      ]
     },
     "metadata": {
      "needs_background": "light"
     },
     "output_type": "display_data"
    }
   ],
   "source": [
    "data_f = {'Group 1': pop_1_percent_f, 'Group 2': pop_2_percent_f, 'Group 3': pop_3_percent_f}\n",
    "x_f = list(data_f.keys())\n",
    "y_f = list(data_f.values())\n",
    "\n",
    "fig_f, ax_f = plt.subplots()\n",
    "width_f = 0.75\n",
    "ind_f = np.arange(len(y_f))\n",
    "\n",
    "ax_f.barh(ind_f, y_f, width_f, color = \"black\")\n",
    " \n",
    "for i_f, v_f in enumerate(y_f):\n",
    "    ax_f.text(v_f + 3, i_f + .25, str(v_f),\n",
    "            color = 'black')\n",
    "\n",
    "plt.yticks(ind_f, x_f)\n",
    "\n",
    "plt.xlabel(\"Percentage Employed\")\n",
    "plt.ylabel(\"Skin Groups\")\n",
    "plt.title(\"Female Employment to Population Ratio\")\n",
    "\n",
    "plt.show()"
   ]
  }
 ],
 "metadata": {
  "colab": {
   "collapsed_sections": [
    "D-02Mur-9dv5",
    "hal82MZYmc4f",
    "4Jt6GLdwEo_d",
    "5ObBj_frE0yq",
    "FYIbv_KKFZFy",
    "3gGLkCJmJXCP",
    "RF1m067WJx71",
    "PFM4Wfa1KLaU",
    "UsNRVsvze1At",
    "Ymt42g8ykN8v",
    "uLsrKlKNmMen",
    "fwisRkkzCldY",
    "ROJNJuPhxakQ",
    "zS1zGG6b8VZ8",
    "gYF_Rz7y3WU_",
    "18fHg6T_0QY8",
    "5ri9jBrKxeoa",
    "ZGJQ8cYr4m3I",
    "O9ovAZxg-3LX",
    "r-iC1Ue2_Yih",
    "AT5E2X5aAGN8",
    "zbytQIV1DEt-",
    "ezUzF6Ly6a3T",
    "3Yn_zrR9MPWk",
    "c5OuADJAMQ7j",
    "REjlLGG-M0N4",
    "HRDjRHTgNBnb",
    "FxESSxeAT1co",
    "M-AUGuTCBj3-",
    "vnJk_X3XBq3Y",
    "_EZ0vwvrB9r6",
    "-TgV7XddCmP8",
    "A5dLJpwKBWpm",
    "DLZ8dKy_f3Uj"
   ],
   "provenance": []
  },
  "kernelspec": {
   "display_name": "Python 3 (ipykernel)",
   "language": "python",
   "name": "python3"
  },
  "language_info": {
   "codemirror_mode": {
    "name": "ipython",
    "version": 3
   },
   "file_extension": ".py",
   "mimetype": "text/x-python",
   "name": "python",
   "nbconvert_exporter": "python",
   "pygments_lexer": "ipython3",
   "version": "3.9.7"
  }
 },
 "nbformat": 4,
 "nbformat_minor": 1
}
